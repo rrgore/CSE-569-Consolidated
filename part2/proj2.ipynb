{
 "cells": [
  {
   "cell_type": "markdown",
   "id": "7d5163b8",
   "metadata": {},
   "source": [
    "## Project part 2\n",
    "#### Author: Rahul Gore"
   ]
  },
  {
   "cell_type": "code",
   "execution_count": 1,
   "id": "b5ec9aff",
   "metadata": {},
   "outputs": [],
   "source": [
    "'''Imports'''\n",
    "import scipy\n",
    "import scipy.io\n",
    "import numpy as np\n",
    "from libsvm.svmutil import *\n",
    "import os\n",
    "# import time"
   ]
  },
  {
   "cell_type": "code",
   "execution_count": 33,
   "id": "829f6bd9",
   "metadata": {},
   "outputs": [],
   "source": [
    "train_data = scipy.io.loadmat('trainData.mat')\n",
    "train_x1 = np.array(train_data['X1'])\n",
    "train_x2 = np.array(train_data['X2'])\n",
    "train_x3 = np.array(train_data['X3'])\n",
    "train_y = train_data['Y'].flatten()"
   ]
  },
  {
   "cell_type": "code",
   "execution_count": 39,
   "id": "11d961e2",
   "metadata": {},
   "outputs": [],
   "source": [
    "test_data = scipy.io.loadmat('testData.mat')\n",
    "test_x1 = np.array(test_data['X1'])\n",
    "test_x2 = np.array(test_data['X2'])\n",
    "test_x3 = np.array(test_data['X3'])\n",
    "test_y = test_data['Y'].flatten()"
   ]
  },
  {
   "cell_type": "markdown",
   "id": "ea63e194",
   "metadata": {},
   "source": [
    "### Step 0 (1)\n",
    "Classification models"
   ]
  },
  {
   "cell_type": "code",
   "execution_count": 43,
   "id": "393cd392",
   "metadata": {},
   "outputs": [],
   "source": [
    "''' WARNING: Do this step only once. Load from *.model file '''\n",
    "class_h1 = svm_train(train_y, train_x1, '-c 10 -t 0 -q')\n",
    "class_h2 = svm_train(train_y, train_x2, '-c 10 -t 0 -q')\n",
    "class_h3 = svm_train(train_y, train_x3, '-c 10 -t 0 -q')\n",
    "svm_save_model('class_h1.model', class_h1)\n",
    "svm_save_model('class_h2.model', class_h2)\n",
    "svm_save_model('class_h3.model', class_h3)"
   ]
  },
  {
   "cell_type": "code",
   "execution_count": 4,
   "id": "85e73b77",
   "metadata": {},
   "outputs": [],
   "source": [
    "class_h1 = svm_load_model('class_h1.model')\n",
    "class_h2 = svm_load_model('class_h2.model')\n",
    "class_h3 = svm_load_model('class_h3.model')"
   ]
  },
  {
   "cell_type": "code",
   "execution_count": 44,
   "id": "f94db823",
   "metadata": {},
   "outputs": [
    {
     "name": "stdout",
     "output_type": "stream",
     "text": [
      "Accuracy = 11.3648% (214/1883) (classification)\n",
      "Accuracy = 17.5252% (330/1883) (classification)\n",
      "Accuracy = 8.60329% (162/1883) (classification)\n"
     ]
    }
   ],
   "source": [
    "label1, acc1, val1 = svm_predict(test_y, test_x1, class_h1)\n",
    "label2, acc2, val2 = svm_predict(test_y, test_x2, class_h2)\n",
    "label3, acc3, val3 = svm_predict(test_y, test_x3, class_h3)"
   ]
  },
  {
   "cell_type": "code",
   "execution_count": 61,
   "id": "4f98760c",
   "metadata": {},
   "outputs": [
    {
     "name": "stdout",
     "output_type": "stream",
     "text": [
      "(1883, 1225)\n"
     ]
    }
   ],
   "source": [
    "''' testing '''\n",
    "val1 = np.array(val1)\n",
    "print(val1.shape)"
   ]
  },
  {
   "cell_type": "markdown",
   "id": "55098f8a",
   "metadata": {},
   "source": [
    "### Step 0 (2)\n",
    "Probability models"
   ]
  },
  {
   "cell_type": "code",
   "execution_count": 45,
   "id": "b3ba8ee0",
   "metadata": {},
   "outputs": [],
   "source": [
    "''' WARNING - Takes too long. Prefer to load from *.model file '''\n",
    "\n",
    "prob_h1 = svm_train(train_y, train_x1, '-c 10 -t 0 -b 1 -q')\n",
    "prob_h2 = svm_train(train_y, train_x2, '-c 10 -t 0 -b 1 -q')\n",
    "prob_h3 = svm_train(train_y, train_x3, '-c 10 -t 0 -b 1 -q')\n",
    "svm_save_model('prob_h1.model', h1)\n",
    "svm_save_model('prob_h2.model', h2)\n",
    "svm_save_model('prob_h3.model', h3)"
   ]
  },
  {
   "cell_type": "code",
   "execution_count": 46,
   "id": "69b61cd3",
   "metadata": {},
   "outputs": [],
   "source": [
    "prob_h1 = svm_load_model('prob_h1.model')\n",
    "prob_h2 = svm_load_model('prob_h2.model')\n",
    "prob_h3 = svm_load_model('prob_h3.model')"
   ]
  },
  {
   "cell_type": "code",
   "execution_count": 47,
   "id": "3c3b3567",
   "metadata": {},
   "outputs": [
    {
     "name": "stdout",
     "output_type": "stream",
     "text": [
      "Accuracy = 28.6776% (540/1883) (classification)\n",
      "Accuracy = 28.3059% (533/1883) (classification)\n",
      "Accuracy = 28.0404% (528/1883) (classification)\n"
     ]
    }
   ],
   "source": [
    "label1, acc1, val1 = svm_predict(test_y, test_x1, prob_h1, \"-b 1\")\n",
    "label2, acc2, val2 = svm_predict(test_y, test_x2, prob_h2, \"-b 1\")\n",
    "label3, acc3, val3 = svm_predict(test_y, test_x3, prob_h3, \"-b 1\")"
   ]
  },
  {
   "cell_type": "markdown",
   "id": "9c7d779c",
   "metadata": {},
   "source": [
    "### Step 1"
   ]
  },
  {
   "cell_type": "code",
   "execution_count": 47,
   "id": "0afd2b2d",
   "metadata": {},
   "outputs": [
    {
     "name": "stdout",
     "output_type": "stream",
     "text": [
      "(1883, 50)\n"
     ]
    }
   ],
   "source": [
    "''' Testing '''\n",
    "val1 = np.array(val1)\n",
    "val2 = np.array(val2)\n",
    "val3 = np.array(val3)\n",
    "print(val1.shape)"
   ]
  },
  {
   "cell_type": "code",
   "execution_count": 11,
   "id": "3541a8b1",
   "metadata": {},
   "outputs": [],
   "source": [
    "vals = [val1, val2, val3]\n",
    "vals = np.array(vals)\n",
    "stack_val = np.stack(vals, axis=-1)\n",
    "fusion = np.mean(stack_val, axis=2)\n",
    "# print(fusion.shape)"
   ]
  },
  {
   "cell_type": "code",
   "execution_count": 12,
   "id": "d92ead20",
   "metadata": {},
   "outputs": [],
   "source": [
    "fusion_pred = np.argmax(fusion, axis=1)\n",
    "fusion_pred += 1\n",
    "# print(fusion_pred.shape)"
   ]
  },
  {
   "cell_type": "code",
   "execution_count": 13,
   "id": "2f921d0f",
   "metadata": {},
   "outputs": [
    {
     "name": "stdout",
     "output_type": "stream",
     "text": [
      "Accuracy:  44.82209240573553\n"
     ]
    }
   ],
   "source": [
    "match = []\n",
    "for i in range(1883):\n",
    "    if fusion_pred[i] == test_y[i]:\n",
    "        match.append(1)\n",
    "    else:\n",
    "        match.append(0)\n",
    "# print(match[0:50])\n",
    "print(\"Accuracy: \", sum(match)/18.83)"
   ]
  },
  {
   "cell_type": "code",
   "execution_count": 31,
   "id": "6934aa48",
   "metadata": {},
   "outputs": [
    {
     "name": "stdout",
     "output_type": "stream",
     "text": [
      "[1 1 1 1 1 1 1 1 1 1]\n",
      "[1 1 1 1 1 1 1 1 1 1]\n"
     ]
    }
   ],
   "source": [
    "''' testing '''\n",
    "print(fusion_pred[0:10])\n",
    "print(train_y[0:10])"
   ]
  },
  {
   "cell_type": "markdown",
   "id": "d625ef85",
   "metadata": {},
   "source": [
    "### Step 2\n",
    "Combined features"
   ]
  },
  {
   "cell_type": "code",
   "execution_count": 37,
   "id": "069d2242",
   "metadata": {},
   "outputs": [
    {
     "name": "stdout",
     "output_type": "stream",
     "text": [
      "(4786, 3000)\n"
     ]
    }
   ],
   "source": [
    "train_features = np.stack((train_x1, train_x2, train_x3), axis=1)\n",
    "train_features = np.reshape(train_features, (train_features.shape[0], train_features.shape[1]*train_features.shape[2]))\n",
    "print(train_features.shape)"
   ]
  },
  {
   "cell_type": "code",
   "execution_count": 38,
   "id": "a111f78f",
   "metadata": {},
   "outputs": [],
   "source": [
    "''' WARNING: Do this step only once. Load from file '''\n",
    "comb_h1 = svm_train(train_y, train_features, '-c 10 -t 0 -q')\n",
    "svm_save_model('comb_h1.model', comb_h1)"
   ]
  },
  {
   "cell_type": "code",
   "execution_count": null,
   "id": "a396afb6",
   "metadata": {},
   "outputs": [],
   "source": [
    "comb_h = svm_load_model('comb_h.model')"
   ]
  },
  {
   "cell_type": "code",
   "execution_count": 40,
   "id": "d0ad23f2",
   "metadata": {},
   "outputs": [
    {
     "name": "stdout",
     "output_type": "stream",
     "text": [
      "(1883, 3000)\n"
     ]
    }
   ],
   "source": [
    "test_features = np.stack((test_x1, test_x2, test_x3), axis=1)\n",
    "test_features = np.reshape(test_features, (test_features.shape[0], test_features.shape[1]*test_features.shape[2]))\n",
    "print(test_features.shape)"
   ]
  },
  {
   "cell_type": "code",
   "execution_count": 42,
   "id": "7342f43b",
   "metadata": {},
   "outputs": [
    {
     "name": "stdout",
     "output_type": "stream",
     "text": [
      "Accuracy = 39.1928% (738/1883) (classification)\n"
     ]
    }
   ],
   "source": [
    "label, acc, val = svm_predict(test_y, test_features, comb_h1)"
   ]
  },
  {
   "cell_type": "code",
   "execution_count": null,
   "id": "a98edf81",
   "metadata": {},
   "outputs": [],
   "source": []
  }
 ],
 "metadata": {
  "kernelspec": {
   "display_name": "Python 3 (ipykernel)",
   "language": "python",
   "name": "python3"
  },
  "language_info": {
   "codemirror_mode": {
    "name": "ipython",
    "version": 3
   },
   "file_extension": ".py",
   "mimetype": "text/x-python",
   "name": "python",
   "nbconvert_exporter": "python",
   "pygments_lexer": "ipython3",
   "version": "3.8.0"
  }
 },
 "nbformat": 4,
 "nbformat_minor": 5
}
